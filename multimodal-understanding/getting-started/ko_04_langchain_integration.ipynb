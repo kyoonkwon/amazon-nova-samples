{
 "cells": [
  {
   "cell_type": "markdown",
   "id": "7d932ae5-c2b1-4de8-865f-aa28509c33ee",
   "metadata": {},
   "source": [
    "## Nova를 위한 Langchain 통합\n",
    "\n",
    "Nova 모델을 사용한 애플리케이션 개발을 돕기 위해 멀티모달 및 에이전트 워크플로우를 위한 Langchain 지원이 추가되었습니다."
   ]
  },
  {
   "cell_type": "markdown",
   "id": "c7419d32-d280-41a9-922a-c210eae828b9",
   "metadata": {},
   "source": [
    "## 설정"
   ]
  },
  {
   "cell_type": "markdown",
   "id": "0d0cdbc4-698b-4992-9468-a3152d40edd0",
   "metadata": {},
   "source": [
    "#### 설치"
   ]
  },
  {
   "cell_type": "code",
   "execution_count": 4,
   "id": "4e090009-940a-4f23-a9b9-141542376c17",
   "metadata": {},
   "outputs": [
    {
     "name": "stdout",
     "output_type": "stream",
     "text": [
      "Note: you may need to restart the kernel to use updated packages.\n"
     ]
    }
   ],
   "source": [
    "%pip install -q langchain langchain-aws --upgrade"
   ]
  },
  {
   "cell_type": "markdown",
   "id": "c0d9169b-3f39-465a-9f80-50976b3510dd",
   "metadata": {},
   "source": [
    "**참고**: Micro는 텍스트 이해 사용 사례에, Lite와 Pro는 멀티모달 이해 사용 사례에 사용할 수 있습니다.\n",
    "\n",
    "- Nova Micro: \"us.amazon.nova-micro-v1:0\"\n",
    "- Nova Lite: \"us.amazon.nova-lite-v1:0\"\n",
    "- Nova Pro: \"us.amazon.nova-pro-v1:0\""
   ]
  },
  {
   "cell_type": "markdown",
   "id": "42115341-e153-45f8-9d3e-d2971f722c4b",
   "metadata": {},
   "source": [
    "## 모델 호출"
   ]
  },
  {
   "cell_type": "markdown",
   "id": "79e03481-0e86-475d-b84a-dba277ba7eb4",
   "metadata": {},
   "source": [
    "#### 텍스트 이해"
   ]
  },
  {
   "cell_type": "code",
   "execution_count": 1,
   "id": "f0f0bb9a-df70-484e-9823-1b474363678b",
   "metadata": {},
   "outputs": [
    {
     "name": "stdout",
     "output_type": "stream",
     "text": [
      "Request ID: run-4639c75d-2b4c-4337-a393-881e07c5daf2-0\n",
      "==================================\u001b[1m Ai Message \u001b[0m==================================\n",
      "\n",
      "Sure, here are three alternative song titles for \"Teardrops on My Guitar\":\n",
      "\n",
      "1. \"Melody of My Melancholy\"\n",
      "2. \"Raindrops and Rhythms\"\n",
      "3. \"Strings of Sorrow\"\n",
      "\n",
      "\n",
      "Request ID: run-88db0bfb-c1e5-49a3-86c9-04b218e3069b-0\n",
      "==================================\u001b[1m Ai Message \u001b[0m==================================\n",
      "\n",
      "While I don't have personal preferences, I can share some insights into why each alternative title might resonate with different audiences:\n",
      "\n",
      "1. **Melody of My Melancholy**: This title emphasizes the emotional depth and the musical aspect of the song. It suggests a beautiful, yet sorrowful tune that captures the listener's attention.\n",
      "\n",
      "2. **Raindrops and Rhythms**: This title combines the imagery of raindrops with the idea of musical rhythms, creating a vivid and dynamic picture. It might appeal to those who appreciate the interplay between nature and music.\n",
      "\n",
      "3. **Strings of Sorrow**: This title focuses on the instrument (guitar) and the emotion (sorrow). It's straightforward and evocative, making it a strong choice for those who want to highlight the emotional weight of the song.\n",
      "\n",
      "Each of these titles offers a different angle, whether it's the emotional depth, the interplay of nature and music, or the focus on the instrument and feeling.\n"
     ]
    }
   ],
   "source": [
    "from langchain_aws import ChatBedrockConverse\n",
    "from langchain_core.messages import HumanMessage\n",
    "\n",
    "llm = ChatBedrockConverse(\n",
    "    model_id=\"us.amazon.nova-lite-v1:0\",\n",
    "    temperature=0.7\n",
    ")\n",
    "\n",
    "messages = [\n",
    "    (\"system\", \"Provide three alternative song titles for a given user title\"),\n",
    "    (\"user\", \"Teardrops on My Guitar\"),\n",
    "]\n",
    "\n",
    "response = llm.invoke(messages)\n",
    "print(f\"Request ID: {response.id}\")\n",
    "response.pretty_print()\n",
    "\n",
    "\n",
    "# Here we can pass the chat history to the model to ask follow up questions\n",
    "multi_turn_messages = [\n",
    "    *messages,\n",
    "    response,\n",
    "    HumanMessage(content=\"Select your favorite and tell me why\"),\n",
    "]\n",
    "\n",
    "response = llm.invoke(multi_turn_messages)\n",
    "print(f\"\\n\\nRequest ID: {response.id}\")\n",
    "response.pretty_print()"
   ]
  },
  {
   "cell_type": "markdown",
   "id": "d31e2084-5240-4a4f-a2e5-56ed303fb5ac",
   "metadata": {},
   "source": [
    "#### 이미지 이해\n",
    "\n",
    "다양한 미디어 유형을 모델에 전달할 수 있습니다"
   ]
  },
  {
   "cell_type": "code",
   "execution_count": 2,
   "id": "766bbdff-bdf5-4d5d-ab5b-a324622d40f8",
   "metadata": {},
   "outputs": [
    {
     "data": {
      "image/png": "[encoded data removed]",
      "text/plain": [
       "<IPython.core.display.Image object>"
      ]
     },
     "execution_count": 2,
     "metadata": {},
     "output_type": "execute_result"
    }
   ],
   "source": [
    "from IPython.display import Image\n",
    "\n",
    "image_path = \"media/sunset.png\"\n",
    "Image(filename=image_path)"
   ]
  },
  {
   "cell_type": "code",
   "execution_count": 3,
   "id": "a4e552f1-40c1-4921-9668-44da4e079aa2",
   "metadata": {},
   "outputs": [
    {
     "name": "stdout",
     "output_type": "stream",
     "text": [
      "\n",
      "\n",
      "Request ID: run-def60913-506c-4765-a1e3-970a10105621-0\n",
      "==================================\u001b[1m Ai Message \u001b[0m==================================\n",
      "\n",
      "The image depicts a picturesque sunset scene over a tranquil lake, captured from a low angle. The sun, at its zenith, casts a warm glow over the landscape, creating a vibrant palette of orange, yellow, and red hues. The sky is a beautiful blend of clouds, adding depth and texture to the scene. The reflection of the sun and the sky can be seen shimmering on the surface of the lake, creating a serene and mesmerizing effect. The silhouette of a mountain range in the background adds to the majestic and awe-inspiring nature of the scene. The overall composition of the image is well-balanced, with the sun and sky taking center stage, while the lake and mountain range provide a stunning backdrop. The image evokes a sense of peace, tranquility, and natural beauty, making it a perfect representation of a sunset scene.\n"
     ]
    }
   ],
   "source": [
    "import base64\n",
    "\n",
    "from langchain_aws import ChatBedrockConverse\n",
    "from langchain_core.messages import HumanMessage\n",
    "\n",
    "llm = ChatBedrockConverse(\n",
    "    model=\"us.amazon.nova-lite-v1:0\",\n",
    "    temperature=0.7\n",
    ")\n",
    "\n",
    "with open(image_path, \"rb\") as image_file:\n",
    "    binary_data = image_file.read()\n",
    "\n",
    "message = HumanMessage(\n",
    "    content=[\n",
    "        {\"image\": {\"format\": \"png\", \"source\": {\"bytes\": binary_data}}},\n",
    "        {\"text\": \"Provide a summary of this photo\"},\n",
    "    ]\n",
    ")\n",
    "\n",
    "response = llm.invoke([message])\n",
    "print(f\"\\n\\nRequest ID: {response.id}\")\n",
    "response.pretty_print()"
   ]
  },
  {
   "cell_type": "markdown",
   "id": "884decd3-7ea1-47b4-bff4-188d412664fb",
   "metadata": {},
   "source": [
    "#### 비디오 이해"
   ]
  },
  {
   "cell_type": "code",
   "execution_count": 4,
   "id": "1ee15b13-6064-4a31-98a1-d067edb8bacb",
   "metadata": {},
   "outputs": [],
   "source": [
    "video_path = \"media/the-sea.mp4\""
   ]
  },
  {
   "cell_type": "code",
   "execution_count": 5,
   "id": "401e61fc-f354-4421-a46d-522d10d1a2d3",
   "metadata": {},
   "outputs": [
    {
     "name": "stdout",
     "output_type": "stream",
     "text": [
      "\n",
      "\n",
      "Request ID: run-6a280ddf-5800-4038-9169-c1063202cc21-0\n",
      "==================================\u001b[1m Ai Message \u001b[0m==================================\n",
      "\n",
      "The video starts with a top-down view of a rocky shore, where the sea waves crash against the rocks. Then, it transitions to a close-up view of a beach, where a large seashell lies on the sand. The waves gently lap against the shore, and the sun shines brightly, casting a warm glow on the scene. The camera zooms in on the seashell, showing its intricate patterns and the white foamy waves in the background.\n"
     ]
    }
   ],
   "source": [
    "from langchain_aws import ChatBedrockConverse\n",
    "\n",
    "llm = ChatBedrockConverse(\n",
    "    model=\"us.amazon.nova-lite-v1:0\",\n",
    "    temperature=0.7\n",
    ")\n",
    "\n",
    "with open(video_path, \"rb\") as video_file:\n",
    "    binary_data = video_file.read()\n",
    "\n",
    "\n",
    "message = HumanMessage(\n",
    "    content=[\n",
    "        {\"video\": {\"format\": \"mp4\", \"source\": {\"bytes\": binary_data}}},\n",
    "        {\"type\": \"text\", \"text\": \"Describe the following video\"},\n",
    "    ]\n",
    ")\n",
    "\n",
    "response = llm.invoke([message])\n",
    "print(f\"\\n\\nRequest ID: {response.id}\")\n",
    "response.pretty_print()"
   ]
  },
  {
   "cell_type": "markdown",
   "id": "ace6d076-16dd-4285-b8cc-862f1c6e0e0d",
   "metadata": {},
   "source": [
    "#### 스트리밍\n",
    "\n",
    "스트리밍도 지원됩니다"
   ]
  },
  {
   "cell_type": "code",
   "execution_count": 6,
   "id": "32f1db1f-01a4-43da-af72-a3a50954a8af",
   "metadata": {},
   "outputs": [
    {
     "name": "stdout",
     "output_type": "stream",
     "text": [
      "**Title: The Graduating Wizard**\n",
      "\n",
      "**I. Introduction**\n",
      "\n",
      "1. **Setting the Scene:**\n",
      "   - A magical college called Arcanum Academy, nestled in a mystical forest.\n",
      " academy is a blend of ancient architecture and modern enchantments.\n",
      "\n",
      "2. **Introduction to Theodore:**\n",
      "   - Theodore is a 22-year-old wizard with a knack for potion-making and a curious mind.\n",
      " and his ever-present pet owl, Athena.obes\n",
      "\n",
      "3. **Thesis Statement:**\n",
      "   - Theodore is about to graduate from Arcanum Academy, but his journey is far from over.\n",
      "\n",
      "’s Journey at Arcanum Academy**\n",
      "\n",
      "1. **Freshman Year:**\n",
      "   - Theodore’s arrival at Arcanum Academy.\n",
      ", and Marcus, a skilled illusionist. a talented enchantress\n",
      "   - First magical classes and the challenges of mastering spells.\n",
      "\n",
      "2. **Sophomore Year:**\n",
      "   - Theodore’s growing interest in potion-making.\n",
      "   - A mentorship with Professor Elara, a renowned potion master.\n",
      " a darker side.with a fellow student, Cedric, who is equally talented but has\n",
      "\n",
      "3. **Junior Year:**\n",
      "   - The discovery of an ancient spellbook hidden in the academy’s library.\n",
      "   - The trio’s first major adventure to retrieve a stolen artifact.\n",
      " bond with Lila and Marcus.\n",
      "\n",
      "4. **Senior Year:**\n",
      "   - The final year brings challenges and preparations for graduation.\n",
      "   - Theodore’s invention of a groundbreaking potion that catches the attention of the academy’s council.\n",
      " threat of Cedric’s ambitions and his quest for power.\n",
      "\n",
      "**III. The Graduation Day**\n",
      "\n",
      "1. **Preparations:**\n",
      "   - The academy is abuzz with excitement for the graduation ceremony.\n",
      " Lila, and Marcus prepare for their final exams and the graduation ball.\n",
      "\n",
      "2. **Graduation Ceremony:**\n",
      "   - The ceremony is filled with magic, speeches, and the awarding of diplomas.\n",
      " and he steps forward to receive his diploma.\n",
      "\n",
      "3. **The Twist:**\n",
      "   - During the ceremony, Cedric makes a dramatic appearance, revealing his plan to seize control of the academy.\n",
      "   - Theodore and his friends must use their skills to thwart Cedric’s scheme.\n",
      "\n",
      "**IV. The Final Battle**\n",
      "\n",
      "1. **Confrontation:**\n",
      "   - Theodore, Lila, and Marcus face off against Cedric and his followers.\n",
      "   - A magical battle ensues, testing their skills and friendship.\n",
      "\n",
      "2. **Turning Point:**\n",
      " come to the forefront as he concocts a potion to weaken Cedric’s magic.\n",
      "   - The trio works together, using their unique abilities to outsmart Cedric.\n",
      "\n",
      "3. **Victory:**\n",
      "   - With teamwork and courage, Theodore and his friends defeat Cedric.\n",
      "   - The academy is saved, and Cedric is expelled.\n",
      "\n",
      "**V. Conclusion**\n",
      "\n",
      "1. **Aftermath:**\n",
      ", and the students celebrate their victory.\n",
      " on their journey and the bonds they’ve formed.\n",
      "\n",
      "2. **Graduation Party:**\n",
      "   - A grand celebration with music, dancing, and fireworks.\n",
      "   - Theodore receives congratulations from his peers and professors.\n",
      "\n",
      "3. **The Future:**\n",
      " contemplates his next steps, whether to continue his studies or embark on new adventures.\n",
      "   - The novel ends with Theodore looking forward to the future, ready to face whatever challenges come his way.\n",
      "\n",
      "**VI. Epilogue**\n",
      "\n",
      ":****A New Beginning\n",
      "   - A few months later, Theodore, Lila, and Marcus receive a mysterious letter inviting them to a new adventure.\n",
      "   - The letter hints at a greater threat looming on the horizon, setting the stage for a potential sequel.\n",
      "\n",
      "**End of Outline**"
     ]
    }
   ],
   "source": [
    "from langchain_aws import ChatBedrockConverse\n",
    "from langchain_core.messages import HumanMessage, SystemMessage\n",
    "from langchain_core.output_parsers import StrOutputParser\n",
    "\n",
    "llm = ChatBedrockConverse(\n",
    "    model=\"us.amazon.nova-lite-v1:0\",\n",
    "    temperature=0.7\n",
    ")\n",
    "\n",
    "chain = llm | StrOutputParser()\n",
    "\n",
    "messages = [\n",
    "    SystemMessage(content=\"You are an author with experience writing creative novels\"),\n",
    "    HumanMessage(\n",
    "        content=\"Write an outlin for a novel about a wizard named Theodore graduating from college\"\n",
    "    ),\n",
    "]\n",
    "\n",
    "for chunk in chain.stream(messages):\n",
    "    print(chunk, end=\"\")"
   ]
  },
  {
   "cell_type": "markdown",
   "id": "a2fb633d-a49c-4a4b-9869-0fdb995ca8dc",
   "metadata": {},
   "source": [
    "## 에이전트 워크플로우\n",
    "\n",
    "Nova 모델은 도구 호출 및 에이전트 워크플로우를 처리할 수 있습니다."
   ]
  },
  {
   "cell_type": "markdown",
   "id": "d6dbb61d-ec8e-489a-a012-fad5c6a35341",
   "metadata": {},
   "source": [
    "#### 도구 바인딩\n",
    "\n",
    "도구 호출을 위해 모델을 사용할 때 바인드 도구 메서드를 활용할 수 있습니다. 이는 포맷된 도구 구성을 모델에 전달합니다. 도구 호출이나 에이전트 워크플로우를 활용할 때는 그리디 디코딩 값을 사용하는 것이 좋습니다. 이는 temperature=1, topP=1, topK=1을 의미합니다"
   ]
  },
  {
   "cell_type": "code",
   "execution_count": 7,
   "id": "288f6941-ebc7-45b0-b6dc-9fe201cc2197",
   "metadata": {},
   "outputs": [
    {
     "name": "stdout",
     "output_type": "stream",
     "text": [
      "[Model Response]\n",
      "\n",
      "[{'type': 'text', 'text': \"<thinking>The User has asked for the multiplication of two numbers, 8 and 8. This is a straightforward calculation that can be performed using the 'multiply' tool.</thinking>\\n\"}, {'type': 'tool_use', 'name': 'multiply', 'input': {'a': 8, 'b': 8}, 'id': 'tooluse_4xo6NcMSSG2cqj3v6JCEAw'}]\n",
      "\n",
      "[Tool Calls]\n",
      "\n",
      "[{'name': 'multiply', 'args': {'a': 8, 'b': 8}, 'id': 'tooluse_4xo6NcMSSG2cqj3v6JCEAw', 'type': 'tool_call'}]\n"
     ]
    }
   ],
   "source": [
    "from langchain_aws import ChatBedrockConverse\n",
    "from langchain.tools import tool\n",
    "\n",
    "@tool\n",
    "def multiply(a: int, b: int) -> int:\n",
    "    \"\"\"Multiply two numbers.\"\"\"\n",
    "    return a * b\n",
    "\n",
    "tools = [multiply]\n",
    "\n",
    "llm_with_tools = ChatBedrockConverse(\n",
    "    model=\"us.amazon.nova-lite-v1:0\",\n",
    "    temperature=1,\n",
    "    top_p=1,\n",
    "    additional_model_request_fields={\n",
    "        \"inferenceConfig\": {\n",
    "            \"topK\": 1\n",
    "        }\n",
    "    },\n",
    ").bind_tools(tools)\n",
    "\n",
    "response = llm_with_tools.invoke([(\"user\", \"What is 8*8\")])\n",
    "\n",
    "print(\"[Model Response]\\n\")\n",
    "print(response.content)\n",
    "\n",
    "print(\"\\n[Tool Calls]\\n\")\n",
    "print(response.tool_calls)"
   ]
  },
  {
   "cell_type": "markdown",
   "id": "6f6f0cca-d9d8-4b1e-93f5-e3b8321ea754",
   "metadata": {},
   "source": [
    "#### 도구 호출 에이전트\n",
    "\n",
    "전체 워크플로우를 위해 스트림의 출력을 가로채고 도구를 호출할 수 있게 해주는 커스텀 파서를 활용할 수 있습니다"
   ]
  },
  {
   "cell_type": "code",
   "execution_count": 8,
   "id": "83e07d53-8381-44cb-a7de-b6e3ffcd1ac9",
   "metadata": {},
   "outputs": [
    {
     "name": "stdout",
     "output_type": "stream",
     "text": [
      "\n",
      "\n",
      "\u001b[1m> Entering new AgentExecutor chain...\u001b[0m\n",
      "\u001b[32;1m\u001b[1;3m\n",
      "Invoking: `multiply` with `{'a': 2, 'b': 2}`\n",
      "responded: [{'type': 'text', 'text': \"<thinking>The User is asking for a simple multiplication of two numbers. I have the tool 'multiply' which can be used to perform this task.</thinking>\\n\", 'index': 0}, {'type': 'tool_use', 'name': 'multiply', 'id': 'tooluse_S5Nv_U5xQO-VVOf3aL7cgQ', 'index': 1, 'input': '{\"a\":2,\"b\":2}'}]\n",
      "\n",
      "\u001b[32;1m\u001b[1;3m[{'type': 'text', 'text': \"<thinking>The tool 'multiply' has returned the result of 2*2, which is 4.</thinking>\\nThe result of 2*2 is 4.\", 'index': 0}]\u001b[0m\n",
      "\n",
      "\u001b[1m> Finished chain.\u001b[0m\n"
     ]
    },
    {
     "data": {
      "text/plain": [
       "{'input': 'What is 2*2?',\n",
       " 'output': [{'type': 'text',\n",
       "   'text': \"<thinking>The tool 'multiply' has returned the result of 2*2, which is 4.</thinking>\\nThe result of 2*2 is 4.\",\n",
       "   'index': 0}]}"
      ]
     },
     "execution_count": 8,
     "metadata": {},
     "output_type": "execute_result"
    }
   ],
   "source": [
    "from langchain.agents import tool, AgentExecutor, create_tool_calling_agent\n",
    "from langchain_core.prompts import ChatPromptTemplate\n",
    "from langchain_aws import ChatBedrockConverse\n",
    "\n",
    "@tool\n",
    "def multiply(a: int, b: int) -> int:\n",
    "    \"\"\"Multiply two numbers.\"\"\"\n",
    "    return a * b\n",
    "\n",
    "tools = [multiply]\n",
    "\n",
    "llm_with_tools = ChatBedrockConverse(\n",
    "    model=\"us.amazon.nova-lite-v1:0\",\n",
    "    temperature=1,\n",
    "    top_p=1,\n",
    "    additional_model_request_fields={\n",
    "        \"inferenceConfig\": {\n",
    "            \"topK\": 1\n",
    "        }\n",
    "    },\n",
    ").bind_tools(tools)\n",
    "\n",
    "prompt = ChatPromptTemplate.from_messages(\n",
    "    [\n",
    "        (\n",
    "            \"system\",\n",
    "            \"You are a helpful assistant\",\n",
    "        ),\n",
    "        (\"placeholder\", \"{chat_history}\"),\n",
    "        (\"human\", \"{input}\"),\n",
    "        (\"placeholder\", \"{agent_scratchpad}\"),\n",
    "    ]\n",
    ")\n",
    "\n",
    "agent = create_tool_calling_agent(llm, tools, prompt)\n",
    "\n",
    "agent_executor = AgentExecutor(agent=agent, tools=tools, verbose=True)\n",
    "\n",
    "agent_executor.invoke({\"input\": \"What is 2*2?\"})"
   ]
  },
  {
   "cell_type": "markdown",
   "id": "77e1ebb6",
   "metadata": {},
   "source": [
    "## 구조화된 출력\n",
    "\n",
    "구조화된 출력은 모델이 특정 방식으로 반환하도록 강제하는 좋은 방법입니다. 여기서는 더 결정론적인 결과를 위해 그리디 디코딩 매개변수를 사용합니다(Temperature = 1, Top P = 1, Top K = 1)"
   ]
  },
  {
   "cell_type": "code",
   "execution_count": 10,
   "id": "7b7841a3",
   "metadata": {},
   "outputs": [
    {
     "data": {
      "text/plain": [
       "Joke(setup='Why did the cat go to the party?', punchline='To get a mouse-ic!')"
      ]
     },
     "execution_count": 10,
     "metadata": {},
     "output_type": "execute_result"
    }
   ],
   "source": [
    "from pydantic import BaseModel, Field\n",
    "from langchain_aws import ChatBedrockConverse\n",
    "\n",
    "class Joke(BaseModel):\n",
    "    \"\"\"A joke to respond to the user\"\"\"\n",
    "    setup: str = Field(description=\"The setup of the joke\")\n",
    "    punchline: str = Field(description=\"The punchline to the joke\")\n",
    "\n",
    "llm = ChatBedrockConverse(\n",
    "    model=\"us.amazon.nova-lite-v1:0\",\n",
    "    temperature=1,\n",
    "    top_p=1,\n",
    "    additional_model_request_fields={\n",
    "        \"inferenceConfig\": {\n",
    "            \"topK\": 1\n",
    "        }\n",
    "    },\n",
    ")\n",
    "\n",
    "structured_llm = llm.with_structured_output(Joke)\n",
    "structured_llm.invoke(\"Tell me a joke about cats\")"
   ]
  },
  {
   "cell_type": "code",
   "execution_count": null,
   "id": "92ab6ec6-22f2-43fd-9bf6-4d1de3926d2e",
   "metadata": {},
   "outputs": [],
   "source": []
  }
 ],
 "metadata": {
  "kernelspec": {
   "display_name": "conda_python3",
   "language": "python",
   "name": "conda_python3"
  },
  "language_info": {
   "codemirror_mode": {
    "name": "ipython",
    "version": 3
   },
   "file_extension": ".py",
   "mimetype": "text/x-python",
   "name": "python",
   "nbconvert_exporter": "python",
   "pygments_lexer": "ipython3",
   "version": "3.10.16"
  }
 },
 "nbformat": 4,
 "nbformat_minor": 5
}
