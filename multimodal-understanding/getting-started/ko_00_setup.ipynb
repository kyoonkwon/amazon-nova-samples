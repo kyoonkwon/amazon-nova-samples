{
 "cells": [
  {
   "cell_type": "markdown",
   "id": "3d8e97cd-0183-4374-ad71-2f32fd7cdfd4",
   "metadata": {},
   "source": [
    "### 설정"
   ]
  },
  {
   "cell_type": "markdown",
   "id": "0a2af62a-20d3-40de-b82b-5a02a4fec65d",
   "metadata": {},
   "source": [
    "사용 사례에 따라 여러 다양한 설치가 필요하기 때문에, 이 노트북은 필요한 모든 라이브러리를 한 곳에서 설치할 수 있는 단일 장소 역할을 합니다"
   ]
  },
  {
   "cell_type": "markdown",
   "id": "e9aba729-517c-461e-8855-e2e494d4fc90",
   "metadata": {},
   "source": [
    "#### 1단계: 새로운 가상 환경 생성 권장"
   ]
  },
  {
   "cell_type": "markdown",
   "id": "ebcfe75b-5e12-44d9-a2a1-4bf605df0002",
   "metadata": {},
   "source": [
    "1.1 **생성**: 새 가상 환경 생성 (예: .venv)\n",
    "\n",
    "```sh\n",
    "python -m venv .venv\n",
    "```\n",
    "\n",
    "1.2 **활성화**: 생성된 가상 환경 활성화\n",
    "\n",
    "```sh\n",
    "source .venv/bin/activate\n",
    "```"
   ]
  },
  {
   "cell_type": "markdown",
   "id": "3beae0ac-4a1d-4ed1-a396-4182cf0166b4",
   "metadata": {},
   "source": [
    "### 2단계: API 호출을 위한 최신 AWS SDK 설치\n",
    "\n",
    "```sh\n",
    "pip install boto3 botocore\n",
    "```"
   ]
  },
  {
   "cell_type": "code",
   "execution_count": null,
   "id": "d3ab6c82-4505-4745-a0b9-d7d0481fef61",
   "metadata": {},
   "outputs": [],
   "source": []
  }
 ],
 "metadata": {
  "kernelspec": {
   "display_name": "conda_python3",
   "language": "python",
   "name": "conda_python3"
  },
  "language_info": {
   "codemirror_mode": {
    "name": "ipython",
    "version": 3
   },
   "file_extension": ".py",
   "mimetype": "text/x-python",
   "name": "python",
   "nbconvert_exporter": "python",
   "pygments_lexer": "ipython3",
   "version": "3.10.16"
  }
 },
 "nbformat": 4,
 "nbformat_minor": 5
}
