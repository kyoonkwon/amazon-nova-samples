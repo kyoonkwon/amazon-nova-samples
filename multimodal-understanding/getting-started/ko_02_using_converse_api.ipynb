{
 "cells": [
  {
   "cell_type": "markdown",
   "id": "7cb107f7-2b50-4f49-8800-4044c2ad1bf0",
   "metadata": {},
   "source": [
    "## Converse API 사용하기"
   ]
  },
  {
   "cell_type": "markdown",
   "id": "f2672d9d-4feb-4590-8839-687f0b62a1c8",
   "metadata": {},
   "source": [
    "다음 예제는 Converse API를 통해 Nova와 상호작용하는 방법을 보여줍니다 ([API 문서](https://boto3.amazonaws.com/v1/documentation/api/latest/reference/services/bedrock-runtime/client/converse.html))"
   ]
  },
  {
   "cell_type": "code",
   "execution_count": 1,
   "id": "eef573d5",
   "metadata": {},
   "outputs": [],
   "source": [
    "import boto3\n",
    "import json\n",
    "import base64\n",
    "\n",
    "# Create a Bedrock Runtime client\n",
    "client = boto3.client(\"bedrock-runtime\", region_name=\"us-east-1\")\n",
    "\n",
    "PRO_MODEL_ID = \"us.amazon.nova-pro-v1:0\"\n",
    "LITE_MODEL_ID = \"us.amazon.nova-lite-v1:0\"\n",
    "MICRO_MODEL_ID = \"us.amazon.nova-micro-v1:0\"\n"
   ]
  },
  {
   "cell_type": "markdown",
   "id": "c277e63b-dcb3-4c68-835c-70638d35955a",
   "metadata": {},
   "source": [
    "### **단일 턴**"
   ]
  },
  {
   "cell_type": "code",
   "execution_count": 2,
   "id": "e941d9b0-31ba-47bf-a064-3a41204c89ce",
   "metadata": {},
   "outputs": [
    {
     "name": "stdout",
     "output_type": "stream",
     "text": [
      "\n",
      "[Full Response]\n",
      "{\n",
      "  \"ResponseMetadata\": {\n",
      "    \"RequestId\": \"53ea9416-b6fc-493d-b965-6437d31b0a15\",\n",
      "    \"HTTPStatusCode\": 200,\n",
      "    \"HTTPHeaders\": {\n",
      "      \"date\": \"Sun, 06 Apr 2025 14:37:14 GMT\",\n",
      "      \"content-type\": \"application/json\",\n",
      "      \"content-length\": \"374\",\n",
      "      \"connection\": \"keep-alive\",\n",
      "      \"x-amzn-requestid\": \"53ea9416-b6fc-493d-b965-6437d31b0a15\"\n",
      "    },\n",
      "    \"RetryAttempts\": 0\n",
      "  },\n",
      "  \"output\": {\n",
      "    \"message\": {\n",
      "      \"role\": \"assistant\",\n",
      "      \"content\": [\n",
      "        {\n",
      "          \"text\": \"1. \\uace0\\ub4f1\\ud559\\uad50 \\uc878\\uc5c5\\uc744 \\ub9de\\uc774\\ud558\\uba70 (As We Celebrate High School Graduation)\\n2. \\uc0c8 \\ubb38\\ud131\\uc744 \\ub118\\uc5b4 (Crossing the New Threshold)\\n3. \\uc878\\uc5c5, \\uc0c8\\ub85c\\uc6b4 \\uc2dc\\uc791 (Graduation, A New Beginning)\"\n",
      "        }\n",
      "      ]\n",
      "    }\n",
      "  },\n",
      "  \"stopReason\": \"end_turn\",\n",
      "  \"usage\": {\n",
      "    \"inputTokens\": 26,\n",
      "    \"outputTokens\": 78,\n",
      "    \"totalTokens\": 104\n",
      "  },\n",
      "  \"metrics\": {\n",
      "    \"latencyMs\": 588\n",
      "  }\n",
      "}\n",
      "\n",
      "[Response Content Text]\n",
      "1. 고등학교 졸업을 맞이하며 (As We Celebrate High School Graduation)\n",
      "2. 새 문턱을 넘어 (Crossing the New Threshold)\n",
      "3. 졸업, 새로운 시작 (Graduation, A New Beginning)\n"
     ]
    }
   ],
   "source": [
    "\n",
    "# Define your system prompt(s).\n",
    "system = [\n",
    "    {\n",
    "        \"text\": \"You are an experienced publisher. For each user topic, respond with 3 potential book titles in Korean\"\n",
    "    }\n",
    "]\n",
    "\n",
    "# Your user prompt\n",
    "messages = [\n",
    "    {\"role\": \"user\", \"content\": [{\"text\": \"a child graduating from high school\"}]},\n",
    "]\n",
    "\n",
    "# Configure the inference parameters.\n",
    "inf_params = {\"maxTokens\": 300, \"topP\": 0.1, \"temperature\": 0.3}\n",
    "\n",
    "model_response = client.converse(\n",
    "    modelId=LITE_MODEL_ID, messages=messages, system=system, inferenceConfig=inf_params\n",
    ")\n",
    "\n",
    "print(\"\\n[Full Response]\")\n",
    "print(json.dumps(model_response, indent=2))\n",
    "\n",
    "print(\"\\n[Response Content Text]\")\n",
    "print(model_response[\"output\"][\"message\"][\"content\"][0][\"text\"])"
   ]
  },
  {
   "cell_type": "markdown",
   "id": "2c477fc4-3ec1-4c0e-8f20-5987d50e8414",
   "metadata": {},
   "source": [
    "### **멀티 턴**"
   ]
  },
  {
   "cell_type": "code",
   "execution_count": 3,
   "id": "11cb0a46-dedf-415a-8c9e-680d6d0db8eb",
   "metadata": {},
   "outputs": [
    {
     "name": "stdout",
     "output_type": "stream",
     "text": [
      "\n",
      "[Full Response]\n",
      "{\n",
      "  \"ResponseMetadata\": {\n",
      "    \"RequestId\": \"8a3c2d1f-d5cd-4705-9005-1ba02d020791\",\n",
      "    \"HTTPStatusCode\": 200,\n",
      "    \"HTTPHeaders\": {\n",
      "      \"date\": \"Sun, 06 Apr 2025 14:38:40 GMT\",\n",
      "      \"content-type\": \"application/json\",\n",
      "      \"content-length\": \"812\",\n",
      "      \"connection\": \"keep-alive\",\n",
      "      \"x-amzn-requestid\": \"8a3c2d1f-d5cd-4705-9005-1ba02d020791\"\n",
      "    },\n",
      "    \"RetryAttempts\": 0\n",
      "  },\n",
      "  \"output\": {\n",
      "    \"message\": {\n",
      "      \"role\": \"assistant\",\n",
      "      \"content\": [\n",
      "        {\n",
      "          \"text\": \"\\ub300\\ud55c\\ubbfc\\uad6d\\uc5d0\\uc11c\\ub294 \\uc77c\\uc694\\uc77c\\uc774 \\uac00\\uc7a5 \\uccab \\ubc88\\uc9f8 \\uc694\\uc77c\\uc785\\ub2c8\\ub2e4. \\ub300\\ud55c\\ubbfc\\uad6d \\uad6d\\ub0b4 \\uae30\\uc900\\uc73c\\ub85c \\uc694\\uc77c\\uc740 \\uc77c\\uc694\\uc77c, \\uc6d4\\uc694\\uc77c, \\ud654\\uc694\\uc77c, \\uc218\\uc694\\uc77c, \\ubaa9\\uc694\\uc77c, \\uae08\\uc694\\uc77c, \\ud1a0\\uc694\\uc77c \\uc21c\\uc11c\\uc785\\ub2c8\\ub2e4. \\ud558\\uc9c0\\ub9cc \\ub2e4\\ub978 \\ub098\\ub77c\\uc5d0 \\ub530\\ub77c \\uccab \\ubc88\\uc9f8 \\uc694\\uc77c\\uc774 \\ub2e4\\ub97c \\uc218 \\uc788\\uc2b5\\ub2c8\\ub2e4. \\uc608\\ub97c \\ub4e4\\uc5b4, \\ubbf8\\uad6d\\uc5d0\\uc11c\\ub294 \\uc77c\\uc694\\uc77c\\uc774 \\uccab \\ubc88\\uc9f8 \\uc694\\uc77c\\uc774\\uc9c0\\ub9cc, \\uc77c\\ubd80 \\uc720\\ub7fd \\uad6d\\uac00\\uc5d0\\uc11c\\ub294 \\uc6d4\\uc694\\uc77c\\uc774 \\uccab \\ubc88\\uc9f8 \\uc694\\uc77c\\uc774\\ub77c\\uace0 \\ud569\\ub2c8\\ub2e4. \\uad6d\\uc81c \\ud45c\\uc900\\uc778 ISO 8601\\uc5d0\\uc11c\\ub294 \\uc6d4\\uc694\\uc77c\\uc744 \\uccab \\ubc88\\uc9f8 \\uc694\\uc77c\\ub85c \\uc815\\ud558\\uace0 \\uc788\\uc2b5\\ub2c8\\ub2e4. \\ub530\\ub77c\\uc11c \\uc694\\uc77c\\uc758 \\uccab \\ubc88\\uc9f8\\ub294 \\ubb38\\ud654\\uc801, \\uc9c0\\uc5ed\\uc801 \\ud2b9\\uc131\\uc5d0 \\ub530\\ub77c \\ub2e4\\ub97c \\uc218 \\uc788\\uc2b5\\ub2c8\\ub2e4.\"\n",
      "        }\n",
      "      ]\n",
      "    }\n",
      "  },\n",
      "  \"stopReason\": \"end_turn\",\n",
      "  \"usage\": {\n",
      "    \"inputTokens\": 60,\n",
      "    \"outputTokens\": 288,\n",
      "    \"totalTokens\": 348\n",
      "  },\n",
      "  \"metrics\": {\n",
      "    \"latencyMs\": 1401\n",
      "  }\n",
      "}\n",
      "대한민국에서는 일요일이 가장 첫 번째 요일입니다. 대한민국 국내 기준으로 요일은 일요일, 월요일, 화요일, 수요일, 목요일, 금요일, 토요일 순서입니다. 하지만 다른 나라에 따라 첫 번째 요일이 다를 수 있습니다. 예를 들어, 미국에서는 일요일이 첫 번째 요일이지만, 일부 유럽 국가에서는 월요일이 첫 번째 요일이라고 합니다. 국제 표준인 ISO 8601에서는 월요일을 첫 번째 요일로 정하고 있습니다. 따라서 요일의 첫 번째는 문화적, 지역적 특성에 따라 다를 수 있습니다.\n"
     ]
    }
   ],
   "source": [
    "\n",
    "# Define one or more messages using the \"user\" and \"assistant\" roles.\n",
    "messages = [\n",
    "    {\"role\": \"user\", \"content\": [{\"text\": \"일주일은 몇 일인가요?\"}]},\n",
    "    {\"role\": \"assistant\", \"content\": [{\"text\": \"일주일은 총 7일 입니다.\"}]},\n",
    "    {\"role\": \"user\", \"content\": [{\"text\": \"무슨 요일이 가장 첫번째인가요?\"}]},\n",
    "]\n",
    "\n",
    "# Configure the inference parameters.\n",
    "inf_params = {\"maxTokens\": 300, \"topP\": 0.1, \"temperature\": 0.3}\n",
    "\n",
    "model_response = client.converse(\n",
    "    modelId=LITE_MODEL_ID, messages=messages, inferenceConfig=inf_params\n",
    ")\n",
    "\n",
    "print(\"\\n[Full Response]\")\n",
    "print(json.dumps(model_response, indent=2))\n",
    "\n",
    "print(model_response[\"output\"][\"message\"][\"content\"][0][\"text\"])"
   ]
  },
  {
   "cell_type": "markdown",
   "id": "a47111bd-2044-43e5-94be-1628ccd508ae",
   "metadata": {},
   "source": [
    "### **스트리밍**"
   ]
  },
  {
   "cell_type": "code",
   "execution_count": 4,
   "id": "01346b0b-0b74-41aa-b1e2-2e0c2c27f2c7",
   "metadata": {},
   "outputs": [
    {
     "name": "stdout",
     "output_type": "stream",
     "text": [
      "별빛 아래 캠핑을 하던 그날, 친구들과 함께 불빛을 따뜻하게 받으며 이야기를 나눴다. 불꽃놀이가 시작되었고, 하늘은 숨막힐 듯 아름다웠다. 그 순간, 우리는 행복했다."
     ]
    }
   ],
   "source": [
    "\n",
    "# Define your system prompt(s).\n",
    "system = [\n",
    "    {\n",
    "        \"text\": \"Act as a creative writing assistant. When the user provides you with a topic, write a 20~30 words Korean story about that topic.\"\n",
    "    }\n",
    "]\n",
    "\n",
    "messages = [\n",
    "    {\"role\": \"user\", \"content\": [{\"text\": \"캠핑\"}]},\n",
    "]\n",
    "\n",
    "# Configure the inference parameters.\n",
    "inf_params = {\"maxTokens\": 300, \"topP\": 0.1, \"temperature\": 0.3}\n",
    "\n",
    "model_response = client.converse_stream(\n",
    "    modelId=LITE_MODEL_ID, messages=messages, system=system, inferenceConfig=inf_params\n",
    ")\n",
    "\n",
    "stream = model_response.get(\"stream\")\n",
    "if stream:\n",
    "    for event in stream:\n",
    "        if \"contentBlockDelta\" in event:\n",
    "            print(event[\"contentBlockDelta\"][\"delta\"][\"text\"], end=\"\")"
   ]
  },
  {
   "cell_type": "markdown",
   "id": "66712974-eb8a-4d6c-a803-fe83660b0fd9",
   "metadata": {},
   "source": [
    "### **이미지 이해**"
   ]
  },
  {
   "cell_type": "code",
   "execution_count": 8,
   "id": "dfa569ae-5dfb-4a32-a96b-427fbb04a3c6",
   "metadata": {},
   "outputs": [
    {
     "name": "stdout",
     "output_type": "stream",
     "text": [
      "\n",
      "[Full Response]\n",
      "{\n",
      "  \"ResponseMetadata\": {\n",
      "    \"RequestId\": \"d418ca22-ac4c-4fea-a149-5a43efe99ba9\",\n",
      "    \"HTTPStatusCode\": 200,\n",
      "    \"HTTPHeaders\": {\n",
      "      \"date\": \"Sun, 06 Apr 2025 14:41:26 GMT\",\n",
      "      \"content-type\": \"application/json\",\n",
      "      \"content-length\": \"797\",\n",
      "      \"connection\": \"keep-alive\",\n",
      "      \"x-amzn-requestid\": \"d418ca22-ac4c-4fea-a149-5a43efe99ba9\"\n",
      "    },\n",
      "    \"RetryAttempts\": 0\n",
      "  },\n",
      "  \"output\": {\n",
      "    \"message\": {\n",
      "      \"role\": \"assistant\",\n",
      "      \"content\": [\n",
      "        {\n",
      "          \"text\": \"The image depicts a serene sunset scene. The sun is setting on the horizon, casting a warm, golden light across the sky. The sky is a blend of vibrant orange and yellow hues, transitioning into deeper shades of blue as it moves towards the top of the image. The sun is partially obscured by a silhouette of mountains, adding depth to the landscape. The water below the horizon reflects the colors of the sky, creating a mirror-like effect. A few birds are flying in the sky, adding a touch of life to the tranquil scene. The overall atmosphere is peaceful and calming, evoking a sense of relaxation and beauty.\"\n",
      "        }\n",
      "      ]\n",
      "    }\n",
      "  },\n",
      "  \"stopReason\": \"end_turn\",\n",
      "  \"usage\": {\n",
      "    \"inputTokens\": 1319,\n",
      "    \"outputTokens\": 125,\n",
      "    \"totalTokens\": 1444\n",
      "  },\n",
      "  \"metrics\": {\n",
      "    \"latencyMs\": 1323\n",
      "  }\n",
      "}\n",
      "The image depicts a serene sunset scene. The sun is setting on the horizon, casting a warm, golden light across the sky. The sky is a blend of vibrant orange and yellow hues, transitioning into deeper shades of blue as it moves towards the top of the image. The sun is partially obscured by a silhouette of mountains, adding depth to the landscape. The water below the horizon reflects the colors of the sky, creating a mirror-like effect. A few birds are flying in the sky, adding a touch of life to the tranquil scene. The overall atmosphere is peaceful and calming, evoking a sense of relaxation and beauty.\n"
     ]
    }
   ],
   "source": [
    "\n",
    "with open(\"media/sunset.png\", \"rb\") as f:\n",
    "    image = f.read()\n",
    "\n",
    "messages = [\n",
    "    {\n",
    "        \"role\": \"user\",\n",
    "        \"content\": [\n",
    "            {\"image\": {\"format\": \"png\", \"source\": {\"bytes\": image}}},\n",
    "            {\"text\": \"Describe the following image.\"},\n",
    "        ],\n",
    "    }\n",
    "]\n",
    "\n",
    "inf_params = {\"maxTokens\": 300, \"topP\": 0.1, \"temperature\": 0.3}\n",
    "\n",
    "model_response = client.converse(\n",
    "    modelId=LITE_MODEL_ID, messages=messages, inferenceConfig=inf_params\n",
    ")\n",
    "\n",
    "print(\"\\n[Full Response]\")\n",
    "print(json.dumps(model_response, indent=2))\n",
    "\n",
    "print(model_response[\"output\"][\"message\"][\"content\"][0][\"text\"])"
   ]
  },
  {
   "cell_type": "code",
   "execution_count": 9,
   "id": "b85d4de2",
   "metadata": {},
   "outputs": [
    {
     "name": "stdout",
     "output_type": "stream",
     "text": [
      "\n",
      "[Full Response]\n",
      "{\n",
      "  \"ResponseMetadata\": {\n",
      "    \"RequestId\": \"b502274b-9441-44d9-96b6-fa21be0aae97\",\n",
      "    \"HTTPStatusCode\": 200,\n",
      "    \"HTTPHeaders\": {\n",
      "      \"date\": \"Sun, 06 Apr 2025 14:41:37 GMT\",\n",
      "      \"content-type\": \"application/json\",\n",
      "      \"content-length\": \"665\",\n",
      "      \"connection\": \"keep-alive\",\n",
      "      \"x-amzn-requestid\": \"b502274b-9441-44d9-96b6-fa21be0aae97\"\n",
      "    },\n",
      "    \"RetryAttempts\": 0\n",
      "  },\n",
      "  \"output\": {\n",
      "    \"message\": {\n",
      "      \"role\": \"assistant\",\n",
      "      \"content\": [\n",
      "        {\n",
      "          \"text\": \"The two images have several things in common. Firstly, both images feature animals, specifically a dog and a cat. Secondly, both animals are looking directly at the camera, with the dog appearing to be smiling and the cat looking curious. Thirdly, both images have a white background, which helps to highlight the animals and make them stand out. Finally, both images have a close-up view of the animals, which allows the viewer to see the details of their faces and expressions.\"\n",
      "        }\n",
      "      ]\n",
      "    }\n",
      "  },\n",
      "  \"stopReason\": \"end_turn\",\n",
      "  \"usage\": {\n",
      "    \"inputTokens\": 3543,\n",
      "    \"outputTokens\": 96,\n",
      "    \"totalTokens\": 3639\n",
      "  },\n",
      "  \"metrics\": {\n",
      "    \"latencyMs\": 1225\n",
      "  }\n",
      "}\n",
      "The two images have several things in common. Firstly, both images feature animals, specifically a dog and a cat. Secondly, both animals are looking directly at the camera, with the dog appearing to be smiling and the cat looking curious. Thirdly, both images have a white background, which helps to highlight the animals and make them stand out. Finally, both images have a close-up view of the animals, which allows the viewer to see the details of their faces and expressions.\n"
     ]
    }
   ],
   "source": [
    "\n",
    "# Open the image you'd like to use and encode it as a Base64 string.\n",
    "with open(\"media/dog.jpeg\", \"rb\") as image_file:\n",
    "    dog_binary_data = image_file.read()\n",
    "\n",
    "with open(\"media/cat.jpeg\", \"rb\") as image_file:\n",
    "    cat_binary_data = image_file.read()\n",
    "\n",
    "messages = [\n",
    "    {\n",
    "        \"role\": \"user\",\n",
    "        \"content\": [\n",
    "            {\"image\": {\"format\": \"jpeg\", \"source\": {\"bytes\": dog_binary_data}}},\n",
    "            {\"image\": {\"format\": \"jpeg\", \"source\": {\"bytes\": cat_binary_data}}},\n",
    "            {\"text\": \"What do these two images have in common\"},\n",
    "        ],\n",
    "    }\n",
    "]\n",
    "\n",
    "inf_params = {\"maxTokens\": 300, \"topP\": 0.1, \"temperature\": 0.3}\n",
    "\n",
    "model_response = client.converse(\n",
    "    modelId=LITE_MODEL_ID, messages=messages, inferenceConfig=inf_params\n",
    ")\n",
    "\n",
    "print(\"\\n[Full Response]\")\n",
    "print(json.dumps(model_response, indent=2))\n",
    "\n",
    "print(model_response[\"output\"][\"message\"][\"content\"][0][\"text\"])"
   ]
  },
  {
   "cell_type": "markdown",
   "id": "a5fa0a50-fd15-42ba-806c-889bcf261c62",
   "metadata": {},
   "source": [
    "### **비디오 이해**"
   ]
  },
  {
   "cell_type": "code",
   "execution_count": 10,
   "id": "4bef1a0a-282c-411d-a553-37432d40789d",
   "metadata": {},
   "outputs": [
    {
     "name": "stdout",
     "output_type": "stream",
     "text": [
      "\n",
      "[Full Response]\n",
      "{\n",
      "  \"ResponseMetadata\": {\n",
      "    \"RequestId\": \"326b0b4c-b6c7-4aff-9783-64d9c31b25b8\",\n",
      "    \"HTTPStatusCode\": 200,\n",
      "    \"HTTPHeaders\": {\n",
      "      \"date\": \"Sun, 06 Apr 2025 14:41:44 GMT\",\n",
      "      \"content-type\": \"application/json\",\n",
      "      \"content-length\": \"532\",\n",
      "      \"connection\": \"keep-alive\",\n",
      "      \"x-amzn-requestid\": \"326b0b4c-b6c7-4aff-9783-64d9c31b25b8\"\n",
      "    },\n",
      "    \"RetryAttempts\": 0\n",
      "  },\n",
      "  \"output\": {\n",
      "    \"message\": {\n",
      "      \"role\": \"assistant\",\n",
      "      \"content\": [\n",
      "        {\n",
      "          \"text\": \"The video starts with a top view of a rocky shore with waves crashing on the rocks. The camera then zooms in on a large seashell lying on the sand. The shell is brown and white in color, with a spiral pattern. The waves are gently washing over the shell, and the sand is wet. The sun is shining brightly, and the light is reflecting on the water.\"\n",
      "        }\n",
      "      ]\n",
      "    }\n",
      "  },\n",
      "  \"stopReason\": \"end_turn\",\n",
      "  \"usage\": {\n",
      "    \"inputTokens\": 3462,\n",
      "    \"outputTokens\": 78,\n",
      "    \"totalTokens\": 3540\n",
      "  },\n",
      "  \"metrics\": {\n",
      "    \"latencyMs\": 2544\n",
      "  }\n",
      "}\n",
      "\n",
      "[Response Content Text]\n",
      "The video starts with a top view of a rocky shore with waves crashing on the rocks. The camera then zooms in on a large seashell lying on the sand. The shell is brown and white in color, with a spiral pattern. The waves are gently washing over the shell, and the sand is wet. The sun is shining brightly, and the light is reflecting on the water.\n"
     ]
    }
   ],
   "source": [
    "\n",
    "with open(\"./media/the-sea.mp4\", \"rb\") as file:\n",
    "    media_bytes = file.read()\n",
    "    media_base64 = base64.b64encode(media_bytes)\n",
    "\n",
    "\n",
    "messages = [\n",
    "    {\n",
    "        \"role\": \"user\",\n",
    "        \"content\": [\n",
    "            {\"video\": {\"format\": \"mp4\", \"source\": {\"bytes\": media_bytes}}},\n",
    "            {\"text\": \"Describe the following video\"},\n",
    "        ],\n",
    "    }\n",
    "]\n",
    "\n",
    "inf_params = {\"maxTokens\": 300, \"topP\": 0.1, \"temperature\": 0.3}\n",
    "\n",
    "model_response = client.converse(\n",
    "    modelId=LITE_MODEL_ID, messages=messages, inferenceConfig=inf_params\n",
    ")\n",
    "\n",
    "print(\"\\n[Full Response]\")\n",
    "print(json.dumps(model_response, indent=2))\n",
    "\n",
    "print(\"\\n[Response Content Text]\")\n",
    "print(model_response[\"output\"][\"message\"][\"content\"][0][\"text\"])"
   ]
  },
  {
   "cell_type": "markdown",
   "id": "2a2b7f5b-66cc-41f8-9668-90bd599275a7",
   "metadata": {},
   "source": [
    "### 비디오 이해를 위한 S3 경로"
   ]
  },
  {
   "cell_type": "markdown",
   "id": "5711dfc2-178f-4a6f-b4fb-a69d1c3fb40a",
   "metadata": {},
   "source": [
    "##### 비디오 파일이 위치한 S3 버킷 URI로 대체하세요"
   ]
  },
  {
   "cell_type": "code",
   "execution_count": null,
   "id": "098ce021-e214-4246-b533-51907816e344",
   "metadata": {},
   "outputs": [],
   "source": [
    "\n",
    "messages = [\n",
    "    {\n",
    "        \"role\": \"user\",\n",
    "        \"content\": [\n",
    "            {\n",
    "                \"video\": {\n",
    "                    \"format\": \"mp4\",\n",
    "                    \"source\": {\n",
    "                        \"s3Location\": {\n",
    "                            #Replace the s3 bucket URI \n",
    "                            \"uri\": \"s3://demo-bucket/the-sea.mp4\"\n",
    "                        }\n",
    "                    },\n",
    "                }\n",
    "            },\n",
    "            {\"text\": \"Describe the following video\"},\n",
    "        ],\n",
    "    }\n",
    "]\n",
    "\n",
    "inf_params = {\"maxTokens\": 300, \"topP\": 0.1, \"temperature\": 0.3}\n",
    "\n",
    "model_response = client.converse(\n",
    "    modelId=LITE_MODEL_ID, messages=messages, inferenceConfig=inf_params\n",
    ")\n",
    "\n",
    "print(\"\\n[Full Response]\")\n",
    "print(json.dumps(model_response, indent=2))\n",
    "\n",
    "print(\"\\n[Response Content Text]\")\n",
    "print(model_response[\"output\"][\"message\"][\"content\"][0][\"text\"])"
   ]
  },
  {
   "cell_type": "code",
   "execution_count": null,
   "id": "f1a57a57-584e-4662-a054-248a8db81d05",
   "metadata": {},
   "outputs": [],
   "source": []
  }
 ],
 "metadata": {
  "kernelspec": {
   "display_name": "conda_python3",
   "language": "python",
   "name": "conda_python3"
  },
  "language_info": {
   "codemirror_mode": {
    "name": "ipython",
    "version": 3
   },
   "file_extension": ".py",
   "mimetype": "text/x-python",
   "name": "python",
   "nbconvert_exporter": "python",
   "pygments_lexer": "ipython3",
   "version": "3.10.16"
  }
 },
 "nbformat": 4,
 "nbformat_minor": 5
}
